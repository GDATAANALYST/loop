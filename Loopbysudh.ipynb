{
  "nbformat": 4,
  "nbformat_minor": 0,
  "metadata": {
    "colab": {
      "provenance": []
    },
    "kernelspec": {
      "name": "python3",
      "display_name": "Python 3"
    },
    "language_info": {
      "name": "python"
    }
  },
  "cells": [
    {
      "cell_type": "markdown",
      "source": [
        "#for loop"
      ],
      "metadata": {
        "id": "qbQDy7_rw0Gf"
      }
    },
    {
      "cell_type": "markdown",
      "source": [
        "#here, indexing is allowed and it will only work."
      ],
      "metadata": {
        "id": "euDYQ1JWxIPp"
      }
    },
    {
      "cell_type": "code",
      "source": [
        "#WAP to add 1 to every element of a list using for loop and get output in the form of list only ."
      ],
      "metadata": {
        "id": "ujIyZPeWyJ7P"
      },
      "execution_count": null,
      "outputs": []
    },
    {
      "cell_type": "code",
      "source": [
        "l=[1,2,3,4,5,6,7,8,9]"
      ],
      "metadata": {
        "id": "6GwK3ItNw3W1"
      },
      "execution_count": 1,
      "outputs": []
    },
    {
      "cell_type": "code",
      "source": [
        "l1=[]\n",
        "for i in l:\n",
        "  print (i+1)\n",
        "  l1.append(i+1)\n",
        "l1"
      ],
      "metadata": {
        "colab": {
          "base_uri": "https://localhost:8080/"
        },
        "id": "TAO1STKdw-nD",
        "outputId": "1ec10341-f957-4f8e-81a5-827551b9dff6"
      },
      "execution_count": 10,
      "outputs": [
        {
          "output_type": "stream",
          "name": "stdout",
          "text": [
            "2\n",
            "3\n",
            "4\n",
            "5\n",
            "6\n",
            "7\n",
            "8\n",
            "9\n",
            "10\n"
          ]
        },
        {
          "output_type": "execute_result",
          "data": {
            "text/plain": [
              "[2, 3, 4, 5, 6, 7, 8, 9, 10]"
            ]
          },
          "metadata": {},
          "execution_count": 10
        }
      ]
    },
    {
      "cell_type": "markdown",
      "source": [
        "wap to give input in a list and print output in uppercase ."
      ],
      "metadata": {
        "id": "SerNF7r-zYnk"
      }
    },
    {
      "cell_type": "code",
      "source": [
        "l3=[\"sudh\",\"kumar\",\"pwskills\",\"course\"]\n"
      ],
      "metadata": {
        "id": "Bm904F5oxDt1"
      },
      "execution_count": 13,
      "outputs": []
    },
    {
      "cell_type": "code",
      "source": [
        "l1=[]\n",
        "for i in l3:\n",
        "  print (i)\n",
        "  l1.append(i.upper())\n",
        "l1"
      ],
      "metadata": {
        "colab": {
          "base_uri": "https://localhost:8080/"
        },
        "id": "Im6rhthuzmsQ",
        "outputId": "999f668a-00df-4b33-d45c-1f1d5fd06f9a"
      },
      "execution_count": 15,
      "outputs": [
        {
          "output_type": "stream",
          "name": "stdout",
          "text": [
            "sudh\n",
            "kumar\n",
            "pwskills\n",
            "course\n"
          ]
        },
        {
          "output_type": "execute_result",
          "data": {
            "text/plain": [
              "['SUDH', 'KUMAR', 'PWSKILLS', 'COURSE']"
            ]
          },
          "metadata": {},
          "execution_count": 15
        }
      ]
    },
    {
      "cell_type": "markdown",
      "source": [
        "# given a data , you have to create 2 separate lists from one list."
      ],
      "metadata": {
        "id": "r9aYBmlI0cpV"
      }
    },
    {
      "cell_type": "code",
      "source": [
        "l1_num=[]\n",
        "l2_str=[]\n",
        "l4=[1,2,3,4,4,\"sudh\",\"kumar\",324,34.56,\"abc\"]\n",
        "for i in l4:\n",
        "  if type(i)==int or type(i)==float:\n",
        "    l1_num.append(i)\n",
        "  else:\n",
        "    l2_str.append(i)\n",
        "print (l1_num)\n",
        "print(l2_str)"
      ],
      "metadata": {
        "colab": {
          "base_uri": "https://localhost:8080/"
        },
        "id": "CbA0RlhozQxo",
        "outputId": "9523ed52-c321-4ded-9729-a9d57defc721"
      },
      "execution_count": 16,
      "outputs": [
        {
          "output_type": "stream",
          "name": "stdout",
          "text": [
            "[1, 2, 3, 4, 4, 324, 34.56]\n",
            "['sudh', 'kumar', 'abc']\n"
          ]
        }
      ]
    }
  ]
}